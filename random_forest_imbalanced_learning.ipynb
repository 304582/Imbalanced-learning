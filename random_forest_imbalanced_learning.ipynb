{
 "cells": [
  {
   "cell_type": "markdown",
   "id": "814c6a1f-be1d-44a6-949c-8056accf1b6d",
   "metadata": {},
   "source": [
    "# Let's try some Imbalanced Learning!\n",
    "\n",
    "<hr style = \"border: none; height: 2px; background-color: #59C413;\">\n",
    "\n",
    "In this project, i will attempt to build machine learning algorithm, random forest, for classification. This is an imbalanced learning problem, so we have a multi-class imbalanced dataset. The dataset is from kaggle, from Zarana Ramani.\n",
    "\n",
    "Our aim is to use resampling techniques, namely random undersampling, random oversampling, and SMOTE to correct the class imbalance. Thereafter, employ random forest to classify the resampled dataset. Furthermore, we'll evaluate the performance of the algorithm using f1-score and confusion matrix.\n",
    "\n",
    "- In this project, i will implement various statistical techniques such as exploratory data analysis, data cleaning, data wrangling, data transformation, feature engineering, resampling, data modeling, and model evaluation, to achieve my goal.\n",
    "\n",
    "<hr style = \"border: none; height: 2px; background-color: #59C413;\">\n",
    "\n",
    "## Let's import our libraries!\n",
    "\n",
    "<hr style = \"border: none; height: 2px; background-color: #59C413;\">"
   ]
  },
  {
   "cell_type": "code",
   "execution_count": 1,
   "id": "75b6ac82-bbd5-40e8-a34d-7ece6bcbf7e2",
   "metadata": {},
   "outputs": [],
   "source": [
    "import numpy as np\n",
    "import pandas as pd\n",
    "import seaborn as sns\n",
    "import matplotlib.pyplot as plt"
   ]
  },
  {
   "cell_type": "code",
   "execution_count": 2,
   "id": "94600b2a-2630-4133-a882-2011b46c453e",
   "metadata": {},
   "outputs": [],
   "source": [
    "%matplotlib inline"
   ]
  },
  {
   "cell_type": "code",
   "execution_count": 3,
   "id": "ac7d88e8-7f15-4c53-84e6-d6c453d0d837",
   "metadata": {},
   "outputs": [],
   "source": [
    "from scipy import stats\n",
    "from sklearn.preprocessing import LabelEncoder\n",
    "from sklearn.preprocessing import StandardScaler\n",
    "from sklearn.ensemble import RandomForestClassifier\n",
    "from matplotlib.colors import LinearSegmentedColormap\n",
    "from imblearn.under_sampling import RandomUnderSampler\n",
    "from sklearn.feature_selection import mutual_info_classif\n",
    "from imblearn.over_sampling import RandomOverSampler, SMOTE\n",
    "from sklearn.metrics import classification_report, confusion_matrix\n",
    "from sklearn.model_selection import train_test_split, cross_val_score"
   ]
  },
  {
   "cell_type": "code",
   "execution_count": 4,
   "id": "59591a84-7621-4bf4-885a-41b95f41eb37",
   "metadata": {},
   "outputs": [
    {
     "data": {
      "text/html": [
       "<div>\n",
       "<style scoped>\n",
       "    .dataframe tbody tr th:only-of-type {\n",
       "        vertical-align: middle;\n",
       "    }\n",
       "\n",
       "    .dataframe tbody tr th {\n",
       "        vertical-align: top;\n",
       "    }\n",
       "\n",
       "    .dataframe thead th {\n",
       "        text-align: right;\n",
       "    }\n",
       "</style>\n",
       "<table border=\"1\" class=\"dataframe\">\n",
       "  <thead>\n",
       "    <tr style=\"text-align: right;\">\n",
       "      <th></th>\n",
       "      <th>Age</th>\n",
       "      <th>Gender</th>\n",
       "      <th>Profession</th>\n",
       "      <th>Account apps</th>\n",
       "      <th>Frequently used apps</th>\n",
       "      <th>Started since</th>\n",
       "      <th>Social media usage</th>\n",
       "      <th>Notification Response</th>\n",
       "      <th>SMAQ1D</th>\n",
       "      <th>SMAQ2D</th>\n",
       "      <th>...</th>\n",
       "      <th>SEQ10D</th>\n",
       "      <th>SEQ2D</th>\n",
       "      <th>SEQ5D</th>\n",
       "      <th>SEQ6D</th>\n",
       "      <th>SEQ8D</th>\n",
       "      <th>SEQ9D</th>\n",
       "      <th>SMA</th>\n",
       "      <th>SE</th>\n",
       "      <th>SMA_LABEL</th>\n",
       "      <th>SE_LABEL</th>\n",
       "    </tr>\n",
       "  </thead>\n",
       "  <tbody>\n",
       "    <tr>\n",
       "      <th>0</th>\n",
       "      <td>&gt;35</td>\n",
       "      <td>Male</td>\n",
       "      <td>Doctor</td>\n",
       "      <td>WhatsApp, Facebook</td>\n",
       "      <td>WhatsApp, Facebook</td>\n",
       "      <td>more than 5 years</td>\n",
       "      <td>1 - 2hours</td>\n",
       "      <td>Immediately only if it's important</td>\n",
       "      <td>1</td>\n",
       "      <td>3</td>\n",
       "      <td>...</td>\n",
       "      <td>3</td>\n",
       "      <td>3</td>\n",
       "      <td>3</td>\n",
       "      <td>3</td>\n",
       "      <td>3</td>\n",
       "      <td>3</td>\n",
       "      <td>8</td>\n",
       "      <td>30</td>\n",
       "      <td>Low Addiction</td>\n",
       "      <td>High Self Esteem</td>\n",
       "    </tr>\n",
       "    <tr>\n",
       "      <th>1</th>\n",
       "      <td>19-25</td>\n",
       "      <td>Male</td>\n",
       "      <td>Post Graduate (PG)</td>\n",
       "      <td>WhatsApp, Youtube, Instagram, Facebook, Twitte...</td>\n",
       "      <td>WhatsApp, Youtube, Instagram, Facebook</td>\n",
       "      <td>4 years</td>\n",
       "      <td>2 - 3 hours</td>\n",
       "      <td>Immediately only if it's important</td>\n",
       "      <td>4</td>\n",
       "      <td>1</td>\n",
       "      <td>...</td>\n",
       "      <td>2</td>\n",
       "      <td>2</td>\n",
       "      <td>2</td>\n",
       "      <td>1</td>\n",
       "      <td>1</td>\n",
       "      <td>3</td>\n",
       "      <td>19</td>\n",
       "      <td>20</td>\n",
       "      <td>Moderate Addiction</td>\n",
       "      <td>Moderate Self Esteem</td>\n",
       "    </tr>\n",
       "    <tr>\n",
       "      <th>2</th>\n",
       "      <td>19-25</td>\n",
       "      <td>Male</td>\n",
       "      <td>Post Graduate (PG)</td>\n",
       "      <td>WhatsApp, Youtube, Instagram, Facebook, Twitte...</td>\n",
       "      <td>WhatsApp, Youtube, Instagram, Facebook, Twitte...</td>\n",
       "      <td>4 years</td>\n",
       "      <td>2 - 3 hours</td>\n",
       "      <td>Immediately only if it's important</td>\n",
       "      <td>2</td>\n",
       "      <td>3</td>\n",
       "      <td>...</td>\n",
       "      <td>3</td>\n",
       "      <td>2</td>\n",
       "      <td>3</td>\n",
       "      <td>2</td>\n",
       "      <td>2</td>\n",
       "      <td>3</td>\n",
       "      <td>14</td>\n",
       "      <td>24</td>\n",
       "      <td>Moderate Addiction</td>\n",
       "      <td>Moderate Self Esteem</td>\n",
       "    </tr>\n",
       "    <tr>\n",
       "      <th>3</th>\n",
       "      <td>19-25</td>\n",
       "      <td>Female</td>\n",
       "      <td>Post Graduate (PG)</td>\n",
       "      <td>WhatsApp, Youtube, Instagram, Twitter, Telegram</td>\n",
       "      <td>WhatsApp, Youtube, Instagram, Telegram, Snapchat</td>\n",
       "      <td>5 years</td>\n",
       "      <td>3 - 4 hours</td>\n",
       "      <td>I put off notifications</td>\n",
       "      <td>2</td>\n",
       "      <td>1</td>\n",
       "      <td>...</td>\n",
       "      <td>3</td>\n",
       "      <td>1</td>\n",
       "      <td>3</td>\n",
       "      <td>3</td>\n",
       "      <td>0</td>\n",
       "      <td>3</td>\n",
       "      <td>13</td>\n",
       "      <td>22</td>\n",
       "      <td>Moderate Addiction</td>\n",
       "      <td>Moderate Self Esteem</td>\n",
       "    </tr>\n",
       "    <tr>\n",
       "      <th>4</th>\n",
       "      <td>&gt;35</td>\n",
       "      <td>Male</td>\n",
       "      <td>Post Graduate (PG)</td>\n",
       "      <td>WhatsApp, Youtube, Facebook, Telegram, LinkedIn</td>\n",
       "      <td>WhatsApp, Youtube, Instagram, Facebook, Telegram</td>\n",
       "      <td>more than 5 years</td>\n",
       "      <td>1 - 2hours</td>\n",
       "      <td>Whenever took a phone</td>\n",
       "      <td>3</td>\n",
       "      <td>3</td>\n",
       "      <td>...</td>\n",
       "      <td>2</td>\n",
       "      <td>2</td>\n",
       "      <td>1</td>\n",
       "      <td>2</td>\n",
       "      <td>1</td>\n",
       "      <td>2</td>\n",
       "      <td>19</td>\n",
       "      <td>18</td>\n",
       "      <td>Moderate Addiction</td>\n",
       "      <td>Moderate Self Esteem</td>\n",
       "    </tr>\n",
       "  </tbody>\n",
       "</table>\n",
       "<p>5 rows × 28 columns</p>\n",
       "</div>"
      ],
      "text/plain": [
       "     Age  Gender          Profession  \\\n",
       "0    >35    Male             Doctor    \n",
       "1  19-25    Male  Post Graduate (PG)   \n",
       "2  19-25    Male  Post Graduate (PG)   \n",
       "3  19-25  Female  Post Graduate (PG)   \n",
       "4    >35    Male  Post Graduate (PG)   \n",
       "\n",
       "                                        Account apps  \\\n",
       "0                                 WhatsApp, Facebook   \n",
       "1  WhatsApp, Youtube, Instagram, Facebook, Twitte...   \n",
       "2  WhatsApp, Youtube, Instagram, Facebook, Twitte...   \n",
       "3    WhatsApp, Youtube, Instagram, Twitter, Telegram   \n",
       "4    WhatsApp, Youtube, Facebook, Telegram, LinkedIn   \n",
       "\n",
       "                                Frequently used apps      Started since  \\\n",
       "0                                 WhatsApp, Facebook  more than 5 years   \n",
       "1             WhatsApp, Youtube, Instagram, Facebook            4 years   \n",
       "2  WhatsApp, Youtube, Instagram, Facebook, Twitte...            4 years   \n",
       "3   WhatsApp, Youtube, Instagram, Telegram, Snapchat            5 years   \n",
       "4   WhatsApp, Youtube, Instagram, Facebook, Telegram  more than 5 years   \n",
       "\n",
       "  Social media usage               Notification Response  SMAQ1D  SMAQ2D  ...  \\\n",
       "0         1 - 2hours  Immediately only if it's important       1       3  ...   \n",
       "1        2 - 3 hours  Immediately only if it's important       4       1  ...   \n",
       "2        2 - 3 hours  Immediately only if it's important       2       3  ...   \n",
       "3        3 - 4 hours             I put off notifications       2       1  ...   \n",
       "4         1 - 2hours               Whenever took a phone       3       3  ...   \n",
       "\n",
       "   SEQ10D  SEQ2D  SEQ5D  SEQ6D  SEQ8D  SEQ9D  SMA  SE           SMA_LABEL  \\\n",
       "0       3      3      3      3      3      3    8  30       Low Addiction   \n",
       "1       2      2      2      1      1      3   19  20  Moderate Addiction   \n",
       "2       3      2      3      2      2      3   14  24  Moderate Addiction   \n",
       "3       3      1      3      3      0      3   13  22  Moderate Addiction   \n",
       "4       2      2      1      2      1      2   19  18  Moderate Addiction   \n",
       "\n",
       "               SE_LABEL  \n",
       "0      High Self Esteem  \n",
       "1  Moderate Self Esteem  \n",
       "2  Moderate Self Esteem  \n",
       "3  Moderate Self Esteem  \n",
       "4  Moderate Self Esteem  \n",
       "\n",
       "[5 rows x 28 columns]"
      ]
     },
     "execution_count": 4,
     "metadata": {},
     "output_type": "execute_result"
    }
   ],
   "source": [
    "df = pd.read_csv('processed_dataset.csv')\n",
    "df.columns = df.columns.str.strip()\n",
    "df.head()"
   ]
  },
  {
   "cell_type": "markdown",
   "id": "0cd90091-da43-45d1-a32a-2559625664d6",
   "metadata": {},
   "source": [
    "## First, let's choose our colors!\n",
    "\n",
    "<hr style = \"border: none; height: 2px; background-color: #59C413;\">\n",
    "\n",
    "For pelatte choice, i will be using WhatsApp theme colors. The purpose of this is for the project to have a social media feel since social media was the main focus of the research from where the dataset belongs.\n",
    "\n",
    "<hr style = \"border: none; height: 2px; background-color: #59C413;\">"
   ]
  },
  {
   "cell_type": "code",
   "execution_count": 5,
   "id": "1b20f6a3-4a8f-4d02-bd3d-dcc7a6b3f76c",
   "metadata": {},
   "outputs": [
    {
     "data": {
      "image/png": "[encoded data removed]",
      "text/plain": [
       "<Figure size 200x100 with 1 Axes>"
      ]
     },
     "metadata": {},
     "output_type": "display_data"
    }
   ],
   "source": [
    "sns.palplot(['#59C413', '#FFFFFF'])\n",
    "plt.title(\"WhatsApp Theme\", loc = 'left', fontfamily = 'serif',\n",
    "          fontsize = 14, y = 1.2)\n",
    "plt.show()"
   ]
  },
  {
   "cell_type": "markdown",
   "id": "ad365316-685a-4126-8f11-f35561c66e8e",
   "metadata": {},
   "source": [
    "## Let's begin!\n",
    "\n",
    "<hr style = \"border: none; height: 2px; background-color: #59C413;\">\n",
    "\n",
    "**Remember i mentioned that this is an imbalanced learning problem? now, what do i actually mean by that? Well, we'll find out in a bit!**\n",
    "\n",
    "- Our target variable is 'self esteem label(SE_LABEL)'. So this will be our focus.\n",
    "- The variable has three classes, namely low, moderate, and high self-esteem.\n",
    "- More details about the study can be found here: https://link.springer.com/chapter/10.1007/978-3-031-23092-9_3\n",
    "\n",
    "<hr style = \"border: none; height: 2px; background-color: #59C413;\">\n",
    "\n",
    "### Okay, let's have a look at the following chart!\n",
    "\n",
    "<hr style = \"border: none; height: 2px; background-color: #59C413;\">"
   ]
  },
  {
   "cell_type": "code",
   "execution_count": 6,
   "id": "d45f34b2-6f9a-41eb-a502-d8d6a692e86e",
   "metadata": {},
   "outputs": [
    {
     "name": "stderr",
     "output_type": "stream",
     "text": [
      "/data/user/0/ru.iiec.pydroid3/cache/ipykernel_14673/3347332995.py:3: FutureWarning: \n",
      "\n",
      "Passing `palette` without assigning `hue` is deprecated and will be removed in v0.14.0. Assign the `x` variable to `hue` and set `legend=False` for the same effect.\n",
      "\n",
      "  sns.countplot(\n"
     ]
    },
    {
     "data": {
      "image/png": "[encoded data removed]",
      "text/plain": [
       "<Figure size 1000x600 with 1 Axes>"
      ]
     },
     "metadata": {},
     "output_type": "display_data"
    }
   ],
   "source": [
    "theme = ['#FFFFFF', '#59C413', '#FFFFFF']\n",
    "plt.figure(figsize=(10, 6))\n",
    "sns.countplot(\n",
    "    x='SE_LABEL',\n",
    "    data=df,\n",
    "    palette=theme,\n",
    "    edgecolor='#59C413',\n",
    "    hue=None,\n",
    "    legend=False)\n",
    "plt.title('Original Class Distribution', fontsize=20)\n",
    "plt.gca().spines['top'].set_visible(False)\n",
    "plt.gca().spines['right'].set_visible(False)\n",
    "plt.gca().spines['left'].set_visible(False)\n",
    "plt.gca().spines['bottom'].set_visible(False)\n",
    "plt.grid(False)\n",
    "plt.tight_layout()\n",
    "plt.show()"
   ]
  },
  {
   "cell_type": "markdown",
   "id": "b58a27ea-3e20-4a7e-b4d0-e5ead5fe8817",
   "metadata": {},
   "source": [
    "<hr style = \"border: none; height: 2px; background-color: #59C413;\">\n",
    "\n",
    "From the visualization it's pretty obvious that there is a huge difference in the distribution of the three classes. Thus, the dataset is imbalanced. Classifying an imbalanced dataset is a challenge in machine learning because many machine learning algorithms assume even distribution in the dataset. This tends to make algorithms biased towards the majority class. The majority class is a class that is made up by the majority of the dataset samples, and the minority class is the opposite. \n",
    "\n",
    "- In this case, the majority class is the moderate self esteem class, and the other two classes, high and low self esteem are the minority classes.\n",
    "\n",
    "<hr style = \"border: none; height: 2px; background-color: #59C413;\">\n",
    "\n",
    "### Let's see what the numbers actually look like.\n",
    "\n",
    "<hr style = \"border: none; height: 2px; background-color: #59C413;\">"
   ]
  },
  {
   "cell_type": "code",
   "execution_count": 7,
   "id": "c9a36c75-3351-490c-9e18-ab2a7c7538ed",
   "metadata": {},
   "outputs": [
    {
     "data": {
      "text/plain": [
       "(216, 28)"
      ]
     },
     "execution_count": 7,
     "metadata": {},
     "output_type": "execute_result"
    }
   ],
   "source": [
    "original_shape = df.shape\n",
    "original_shape"
   ]
  },
  {
   "cell_type": "code",
   "execution_count": 8,
   "id": "0e4eb477-728c-4433-baa2-44c01fe2d2ac",
   "metadata": {},
   "outputs": [
    {
     "data": {
      "text/plain": [
       "SE_LABEL\n",
       "Moderate Self Esteem    173\n",
       "Low Self Esteem          26\n",
       "High Self Esteem         17\n",
       "Name: count, dtype: int64"
      ]
     },
     "execution_count": 8,
     "metadata": {},
     "output_type": "execute_result"
    }
   ],
   "source": [
    "df['SE_LABEL'].value_counts()"
   ]
  },
  {
   "attachments": {},
   "cell_type": "markdown",
   "id": "8efa372d-136f-4e08-b9dc-b901aecad08a",
   "metadata": {},
   "source": [
    "<hr style = \"border: none; height: 2px; background-color: #59C413;\">\n",
    "\n",
    "This is just additional confirmation of class imbalance. For a proper classification, we will have to correct the class imbalance before classifying the dataset.\n",
    "\n",
    "<hr style = \"border: none; height: 2px; background-color: #59C413;\">\n",
    "\n",
    "## Now, let's do some Data Cleaning.\n",
    "\n",
    "<hr style = \"border: none; height: 2px; background-color: #59C413;\">\n",
    "\n",
    "- We will deal with missing values, duplicates, and inconsistencies.\n",
    "\n",
    "<hr style = \"border: none; height: 2px; background-color: #59C413;\">\n",
    "\n",
    "### Let's start with missing values and duplicates.\n",
    "\n",
    "<hr style = \"border: none; height: 2px; background-color: #59C413;\">"
   ]
  },
  {
   "cell_type": "code",
   "execution_count": 9,
   "id": "93d75dd3-4415-40ed-8ff8-6c8d612b472e",
   "metadata": {},
   "outputs": [
    {
     "data": {
      "text/plain": [
       "Age                      0\n",
       "Gender                   0\n",
       "Profession               0\n",
       "Account apps             0\n",
       "Frequently used apps     0\n",
       "Started since            0\n",
       "Social media usage       0\n",
       "Notification Response    0\n",
       "SMAQ1D                   0\n",
       "SMAQ2D                   0\n",
       "SMAQ3D                   0\n",
       "SMAQ4D                   0\n",
       "SMAQ5D                   0\n",
       "SMAQ6D                   0\n",
       "SEQ1D                    0\n",
       "SEQ3D                    0\n",
       "SEQ4D                    0\n",
       "SEQ7D                    0\n",
       "SEQ10D                   0\n",
       "SEQ2D                    0\n",
       "SEQ5D                    0\n",
       "SEQ6D                    0\n",
       "SEQ8D                    0\n",
       "SEQ9D                    0\n",
       "SMA                      0\n",
       "SE                       0\n",
       "SMA_LABEL                0\n",
       "SE_LABEL                 0\n",
       "dtype: int64"
      ]
     },
     "execution_count": 9,
     "metadata": {},
     "output_type": "execute_result"
    }
   ],
   "source": [
    "df.isnull().sum()"
   ]
  },
  {
   "cell_type": "code",
   "execution_count": 10,
   "id": "e834a0a3-a14f-4945-9f58-cf88a12d4da6",
   "metadata": {},
   "outputs": [
    {
     "name": "stdout",
     "output_type": "stream",
     "text": [
      "No duplicate rows found\n"
     ]
    }
   ],
   "source": [
    "duplicates = df[df.duplicated()]\n",
    "if not duplicates.empty:\n",
    "    print(f\"Number of duplicate rows: {len(duplicates)}\")\n",
    "    print(duplicates)\n",
    "else:\n",
    "    print(\"No duplicate rows found\")"
   ]
  },
  {
   "attachments": {},
   "cell_type": "markdown",
   "id": "dd6ff98f-89de-42a5-ada2-29619cd20f90",
   "metadata": {},
   "source": [
    "<hr style = \"border: none; height: 2px; background-color: #59C413;\">\n",
    "\n",
    "Great! The dataset does not have any missing values, and also, there are no duplicates.\n",
    "\n",
    "<hr style = \"border: none; height: 2px; background-color: #59C413;\">\n",
    "\n",
    "### Now, let's deal with inconsistencies.\n",
    "\n",
    "<hr style = \"border: none; height: 2px; background-color: #59C413;\">\n",
    "\n",
    "- To make sure everything is consistent, let's standardize age, profession, started since, social media usage, notification response columns.\n",
    "\n",
    "<hr style = \"border: none; height: 2px; background-color: #59C413;\">\n",
    "\n",
    "**Standardizing 'Age'**\n",
    "\n",
    "<hr style = \"border: none; height: 2px; background-color: #59C413;\">"
   ]
  },
  {
   "cell_type": "code",
   "execution_count": 11,
   "id": "02b22536-b058-4036-bb68-04bea406fd63",
   "metadata": {},
   "outputs": [],
   "source": [
    "df['Age'] = df['Age'].replace({\n",
    "    '13-18': '13_18',\n",
    "    '19-25': '19_25',\n",
    "    '26-35': '26_35',\n",
    "    '>35': '35_plus'\n",
    "})"
   ]
  },
  {
   "cell_type": "markdown",
   "id": "9c7f1e4a-dce7-47ff-a641-07b40f477e5d",
   "metadata": {},
   "source": [
    "<hr style = \"border: none; height: 2px; background-color: #59C413;\">\n",
    "\n",
    "**Standardizing 'Profession'**\n",
    "\n",
    "<hr style = \"border: none; height: 2px; background-color: #59C413;\">"
   ]
  },
  {
   "cell_type": "code",
   "execution_count": 12,
   "id": "2992b8f2-f2af-4a6d-81f3-cff9c8f969bb",
   "metadata": {},
   "outputs": [],
   "source": [
    "df['Profession'] = df['Profession'].replace({\n",
    "    'Under Graduate (UG)': 'Undergraduate',\n",
    "    'Post Graduate (PG)': 'Postgraduate',\n",
    "    'Ph.d scholar': 'PhD',\n",
    "    'Phd scholar': 'PhD',\n",
    "    'PhD': 'PhD',\n",
    "    'Phd running': 'PhD',\n",
    "    'Doctor': 'Doctor',\n",
    "    'B. Ed, M. A, M. Ed': 'Educator',\n",
    "    'B.ed': 'Educator',\n",
    "    'M.A BE.d': 'Educator',\n",
    "    'Government job ni taiyaari': 'Job Preparation',\n",
    "    'Preparing for net': 'Job Preparation',\n",
    "    'Preparation for government job': 'Job Preparation',\n",
    "    'Preparation for competitive exams': 'Job Preparation',\n",
    "    'Police constable': 'Job Preparation',\n",
    "    'Unemployee': 'Job Preparation',\n",
    "    'Job': 'Job',\n",
    "    'Singer, content writer, translator,': 'Creative Professional',\n",
    "    'Housewife': 'Housewife',\n",
    "    'પરીક્ષાની તૈયારી': 'Exam Preparation'\n",
    "})\n",
    "\n",
    "rare_categories = df['Profession'].value_counts()[df['Profession']\\\n",
    ".value_counts() < 2].index\n",
    "df['Profession'] = df['Profession'].replace(rare_categories, 'Other')"
   ]
  },
  {
   "cell_type": "markdown",
   "id": "a186e929-1cdf-49ba-adb5-effd0bb71681",
   "metadata": {},
   "source": [
    "<hr style = \"border: none; height: 2px; background-color: #59C413;\">\n",
    "\n",
    "- Categories with few occurrences were combined and named 'Other'\n",
    "\n",
    "<hr style = \"border: none; height: 2px; background-color: #59C413;\">\n",
    "\n",
    "**Standardizing 'Started since'**\n",
    "\n",
    "<hr style = \"border: none; height: 2px; background-color: #59C413;\">"
   ]
  },
  {
   "cell_type": "code",
   "execution_count": 13,
   "id": "a12ea0a4-27aa-476d-9c8f-b35af90ea1ee",
   "metadata": {},
   "outputs": [],
   "source": [
    "df['Started since'] = df['Started since'].replace({\n",
    "    'more than 5 years': 6,\n",
    "    '5 years': 5,\n",
    "    'more than 4 years': 5,\n",
    "    '4 years': 4,\n",
    "    'more than 3 years': 4,\n",
    "    '3 years': 3,\n",
    "    'more than 2 years': 3,\n",
    "    '2 years': 2,\n",
    "    'more than 1 year': 2,\n",
    "    '1 year': 1,\n",
    "    'less than a year': 0\n",
    "})"
   ]
  },
  {
   "cell_type": "markdown",
   "id": "1042888f-4870-4e9a-b10f-25fed9ee30c8",
   "metadata": {},
   "source": [
    "<hr style = \"border: none; height: 2px; background-color: #59C413;\">\n",
    "\n",
    "**Standardizing 'Social media usage'**\n",
    "\n",
    "<hr style = \"border: none; height: 2px; background-color: #59C413;\">"
   ]
  },
  {
   "cell_type": "code",
   "execution_count": 14,
   "id": "e6613f25-672f-4420-9983-e61fd703b55c",
   "metadata": {},
   "outputs": [],
   "source": [
    "df['Social media usage'] = df['Social media usage'].replace({\n",
    "    'less than a hour': 1,\n",
    "    '1 - 2hours': 2,\n",
    "    '2 - 3 hours': 3,\n",
    "    '3 - 4 hours': 4,\n",
    "    '> 4 hours': 5\n",
    "})"
   ]
  },
  {
   "cell_type": "markdown",
   "id": "61cd3d0c-8603-4d64-b70c-6a0e0cf04f37",
   "metadata": {},
   "source": [
    "<hr style = \"border: none; height: 2px; background-color: #59C413;\">\n",
    "\n",
    "**Standardizing 'Notification Response'**\n",
    "\n",
    "<hr style = \"border: none; height: 2px; background-color: #59C413;\">"
   ]
  },
  {
   "cell_type": "code",
   "execution_count": 15,
   "id": "70e28dc4-6229-4685-b094-7800f7eaa6d0",
   "metadata": {},
   "outputs": [],
   "source": [
    "df['Notification Response'] = df['Notification Response'].replace({\n",
    "    'Whenever took a phone': 'On Demand',\n",
    "    'Immediately only if it\\'s important': 'Important',\n",
    "    'I Don\\'t respond if it\\'s not important': 'Selective',\n",
    "    'As soon as possible': 'ASAP',\n",
    "    'I put off notifications': 'Delayed',\n",
    "    'Immediately': 'Immediate'\n",
    "})"
   ]
  },
  {
   "cell_type": "markdown",
   "id": "bdfa4944-de18-476f-bf46-05d5ffdd1c7d",
   "metadata": {},
   "source": [
    "<hr style = \"border: none; height: 2px; background-color: #59C413;\">\n",
    "\n",
    "### Let's split 'Account apps' and 'frequently used apps' into lists\n",
    "\n",
    "<hr style = \"border: none; height: 2px; background-color: #59C413;\">\n",
    "\n",
    "- This will allow the algorithm to learn from individual app usage patterns for better results.\n",
    "\n",
    "<hr style = \"border: none; height: 2px; background-color: #59C413;\">"
   ]
  },
  {
   "cell_type": "code",
   "execution_count": 16,
   "id": "90dd3f0a-4cd8-4c52-81af-2dccb18f4f5a",
   "metadata": {},
   "outputs": [],
   "source": [
    "df['Account apps'] = df['Account apps'].str.split(', ')\n",
    "df['Frequently used apps'] = df['Frequently used apps'].str.split(', ')"
   ]
  },
  {
   "cell_type": "markdown",
   "id": "85873f8b-1355-44fa-9a84-b4ec32cef14d",
   "metadata": {},
   "source": [
    "## Let's do some Feature Engineering!\n",
    "\n",
    "<hr style = \"border: none; height: 2px; background-color: #59C413;\">\n",
    "\n",
    "- **We'll focus on 'Account apps' and 'Frequently used apps'**\n",
    "\n",
    "<hr style = \"border: none; height: 2px; background-color: #59C413;\">"
   ]
  },
  {
   "cell_type": "code",
   "execution_count": 17,
   "id": "724692c7-77e7-41d9-a947-61fe8f3ecf56",
   "metadata": {},
   "outputs": [],
   "source": [
    "df['num_account_apps'] = df['Account apps'].apply(len)\n",
    "df['num_frequent_apps'] = df['Frequently used apps'].apply(len)\n",
    "df.drop(['Account apps', 'Frequently used apps'], axis=1, inplace=True)"
   ]
  },
  {
   "cell_type": "markdown",
   "id": "b1566a49-3755-4f35-b0ee-1de8fadaf8f3",
   "metadata": {},
   "source": [
    "<hr style = \"border: none; height: 2px; background-color: #59C413;\">\n",
    "\n",
    "- The new features are, num_account_apps(number of account apps), and num_frequent_apps(number of frequently used apps).\n",
    "- Basically, we just calculated the number of apps in the 'Account apps' and 'Frequently used apps' columns for each row.\n",
    "\n",
    "<hr style = \"border: none; height: 2px; background-color: #59C413;\">\n",
    "\n",
    "- **Now, let's focus on SMAQ1D - SMAQ6D, and SEQ1D - SEQ10D.**\n",
    "- These are ratings of questions related to social media addiction, and ratings of questions related to self esteem, respectively.\n",
    "- These are rated on a scale of 1 - 5.\n",
    "\n",
    "<hr style = \"border: none; height: 2px; background-color: #59C413;\">"
   ]
  },
  {
   "cell_type": "code",
   "execution_count": 18,
   "id": "b50c7676-8949-4395-9554-65cbabda0064",
   "metadata": {},
   "outputs": [],
   "source": [
    "df['SEQ_sum'] = df[[f'SEQ{i}D' for i in range(1, 11)]].sum(axis = 1)\n",
    "df['SMAQ_sum'] = df[[f'SMAQ{i}D' for i in range(1, 7)]].sum(axis = 1)\n",
    "df.drop(columns = [f'SEQ{i}D' for i in range(1, 11)]\n",
    "        + [f'SMAQ{i}D' for i in range(1, 7)], inplace = True)"
   ]
  },
  {
   "attachments": {},
   "cell_type": "markdown",
   "id": "e0dfbda5-bde3-47a8-9cd2-e6a4bf29246a",
   "metadata": {},
   "source": [
    "<hr style = \"border: none; height: 2px; background-color: #59C413;\">\n",
    "\n",
    "The features were treated as ordinal features. SEQ_sum, and SMAQ_sum summarize the SEQ1D - SEQ10D, and SMAQ1D - SMAQ6D columns by taking their sum respectively for each row. The sum aggregation reflects the cumulative weight of all responses, providing insight into the overall intensity of engagement.\n",
    "\n",
    "- This reduced the dimensions of the dataset by half.\n",
    "\n",
    "<hr style = \"border: none; height: 2px; background-color: #59C413;\">\n",
    "\n",
    "## Now, let's check and remove outliers.\n",
    "\n",
    "<hr style = \"border: none; height: 2px; background-color: #59C413;\">"
   ]
  },
  {
   "cell_type": "code",
   "execution_count": 19,
   "id": "590dc127-ec7d-4de9-a1a1-e56032f441bd",
   "metadata": {},
   "outputs": [
    {
     "name": "stdout",
     "output_type": "stream",
     "text": [
      "Rows and columns of original data: (216, 28)\n",
      "Rows and columns of cleaned data: (210, 14)\n"
     ]
    }
   ],
   "source": [
    "def detect_remove_outliers(df, threshold = 3, freq_cutoff = 0.01):\n",
    "    df_cleaned = df.copy()\n",
    "    for col in df_cleaned.select_dtypes(include = [np.number]).columns:\n",
    "        z_scores = np.abs(stats.zscore(df_cleaned[col]))\n",
    "        df_cleaned = df_cleaned[z_scores < threshold]\n",
    "    for col in df_cleaned.select_dtypes(include = [object, 'category']).columns:\n",
    "        freq = df_cleaned[col].value_counts(normalize=True)\n",
    "        valid_categories = freq[freq > freq_cutoff].index\n",
    "        df_cleaned = df_cleaned[df_cleaned[col].isin(valid_categories)]\n",
    "    return df_cleaned\n",
    "    \n",
    "df_cleaned = detect_remove_outliers(df)\n",
    "print(\"Rows and columns of original data:\", original_shape)\n",
    "print(\"Rows and columns of cleaned data:\", df_cleaned.shape)"
   ]
  },
  {
   "attachments": {},
   "cell_type": "markdown",
   "id": "ea2dce27-f5b4-4c24-8dbf-21cc3143010f",
   "metadata": {},
   "source": [
    "- 6 rows were removed as a result.\n",
    "\n",
    "<hr style = \"border: none; height: 2px; background-color: #59C413;\">\n",
    "\n",
    "### How does this work?\n",
    "\n",
    "For continuous variables, the z-scores of each value were calculated and rows where the z-score exceeds a specified threshold, indicating extreme values, were removed. For categorical variables, it computes the relative frequency of each category and filters out categories with a frequency below a defined cutoff, thus retaining only commonly occurring categories.\n",
    "\n",
    "<hr style = \"border: none; height: 2px; background-color: #59C413;\">\n",
    "\n",
    "## Now, let's **encode categorical variables.**\n",
    "\n",
    "<hr style = \"border: none; height: 2px; background-color: #59C413;\">\n",
    "\n",
    "- First, let's view our variable types.\n",
    "\n",
    "<hr style = \"border: none; height: 2px; background-color: #59C413;\">"
   ]
  },
  {
   "cell_type": "code",
   "execution_count": 20,
   "id": "170c7e27-f233-49d0-b90f-3f342a64228a",
   "metadata": {},
   "outputs": [
    {
     "name": "stdout",
     "output_type": "stream",
     "text": [
      "<class 'pandas.core.frame.DataFrame'>\n",
      "Index: 210 entries, 0 to 215\n",
      "Data columns (total 14 columns):\n",
      " #   Column                 Non-Null Count  Dtype \n",
      "---  ------                 --------------  ----- \n",
      " 0   Age                    210 non-null    object\n",
      " 1   Gender                 210 non-null    object\n",
      " 2   Profession             210 non-null    object\n",
      " 3   Started since          210 non-null    int64 \n",
      " 4   Social media usage     210 non-null    int64 \n",
      " 5   Notification Response  210 non-null    object\n",
      " 6   SMA                    210 non-null    int64 \n",
      " 7   SE                     210 non-null    int64 \n",
      " 8   SMA_LABEL              210 non-null    object\n",
      " 9   SE_LABEL               210 non-null    object\n",
      " 10  num_account_apps       210 non-null    int64 \n",
      " 11  num_frequent_apps      210 non-null    int64 \n",
      " 12  SEQ_sum                210 non-null    int64 \n",
      " 13  SMAQ_sum               210 non-null    int64 \n",
      "dtypes: int64(8), object(6)\n",
      "memory usage: 24.6+ KB\n"
     ]
    }
   ],
   "source": [
    "df_cleaned.info()"
   ]
  },
  {
   "cell_type": "markdown",
   "id": "4689895d-fead-44a1-83e0-27f1f237a0af",
   "metadata": {},
   "source": [
    "### Let's start by encoding nominal variables.\n",
    "\n",
    "<hr style = \"border: none; height: 2px; background-color: #59C413;\">"
   ]
  },
  {
   "cell_type": "code",
   "execution_count": 21,
   "id": "f0ab70d5-a0f2-4eae-8c2d-6ee96421bb74",
   "metadata": {},
   "outputs": [],
   "source": [
    "df_encoded = pd.get_dummies(df_cleaned[['Gender', 'Notification Response']],\n",
    "                            drop_first=True)\n",
    "df_encoded = df_encoded.astype(int)\n",
    "df = pd.concat([df_cleaned.drop(['Gender', 'Notification Response'], axis=1),\n",
    "                df_encoded], axis=1)"
   ]
  },
  {
   "cell_type": "markdown",
   "id": "a0cc85d5-c49d-465b-bde1-99b37de96232",
   "metadata": {},
   "source": [
    "### Now, let's encode other categorical variables.\n",
    "\n",
    "<hr style = \"border: none; height: 2px; background-color: #59C413;\">"
   ]
  },
  {
   "cell_type": "code",
   "execution_count": 22,
   "id": "9ca4e227-bcb6-416a-af91-4cdbf265387e",
   "metadata": {},
   "outputs": [],
   "source": [
    "label_encoder = LabelEncoder()\n",
    "df['Profession'] = label_encoder.fit_transform(df['Profession'])"
   ]
  },
  {
   "cell_type": "markdown",
   "id": "4a8b644a-8e8a-4f77-b00d-10507153b5fe",
   "metadata": {},
   "source": [
    "### Now, let's encode ordinal variables.\n",
    "\n",
    "<hr style = \"border: none; height: 2px; background-color: #59C413;\">"
   ]
  },
  {
   "cell_type": "code",
   "execution_count": 23,
   "id": "74cf2760-a773-426f-b563-aa73a587f681",
   "metadata": {},
   "outputs": [],
   "source": [
    "label_mappings = {\n",
    "    'Age': {'13_18': 0, '19_25': 1, '26_35': 2, '35_plus': 3},\n",
    "    'SMA_LABEL': {\n",
    "        'High Risk Of Addiction': 0,\n",
    "        'High Addiction': 1,\n",
    "        'Moderate Addiction': 2,\n",
    "        'Low Addiction': 3\n",
    "    },\n",
    "    'SE_LABEL': {\n",
    "        'Low Self Esteem': 0,\n",
    "        'Moderate Self Esteem': 1,\n",
    "        'High Self Esteem': 2\n",
    "    }\n",
    "}\n",
    "for column, mapping in label_mappings.items():\n",
    "    df[column] = df[column].map(mapping)"
   ]
  },
  {
   "cell_type": "markdown",
   "id": "1d37c672-3ba6-46cb-b214-54e14b0f489a",
   "metadata": {},
   "source": [
    "<hr style = \"border: none; height: 2px; background-color: #59C413;\">\n",
    "\n",
    "- **For our variable of interest, i.e. self-esteem label, low self-esteem has been encoded as 0, moderate self-esteem as 1, and high self-esteem as 2.**\n",
    "\n",
    "<hr style = \"border: none; height: 2px; background-color: #59C413;\">"
   ]
  },
  {
   "cell_type": "code",
   "execution_count": 24,
   "id": "39b11b41-60d3-4bee-b75e-8817764e076f",
   "metadata": {},
   "outputs": [
    {
     "data": {
      "text/html": [
       "<div>\n",
       "<style scoped>\n",
       "    .dataframe tbody tr th:only-of-type {\n",
       "        vertical-align: middle;\n",
       "    }\n",
       "\n",
       "    .dataframe tbody tr th {\n",
       "        vertical-align: top;\n",
       "    }\n",
       "\n",
       "    .dataframe thead th {\n",
       "        text-align: right;\n",
       "    }\n",
       "</style>\n",
       "<table border=\"1\" class=\"dataframe\">\n",
       "  <thead>\n",
       "    <tr style=\"text-align: right;\">\n",
       "      <th></th>\n",
       "      <th>Age</th>\n",
       "      <th>Profession</th>\n",
       "      <th>Started since</th>\n",
       "      <th>Social media usage</th>\n",
       "      <th>SMA</th>\n",
       "      <th>SE</th>\n",
       "      <th>SMA_LABEL</th>\n",
       "      <th>SE_LABEL</th>\n",
       "      <th>num_account_apps</th>\n",
       "      <th>num_frequent_apps</th>\n",
       "      <th>SEQ_sum</th>\n",
       "      <th>SMAQ_sum</th>\n",
       "      <th>Gender_Male</th>\n",
       "      <th>Notification Response_Delayed</th>\n",
       "      <th>Notification Response_Immediate</th>\n",
       "      <th>Notification Response_Important</th>\n",
       "      <th>Notification Response_On Demand</th>\n",
       "      <th>Notification Response_Selective</th>\n",
       "    </tr>\n",
       "  </thead>\n",
       "  <tbody>\n",
       "    <tr>\n",
       "      <th>0</th>\n",
       "      <td>3</td>\n",
       "      <td>3</td>\n",
       "      <td>6</td>\n",
       "      <td>2</td>\n",
       "      <td>8</td>\n",
       "      <td>30</td>\n",
       "      <td>3</td>\n",
       "      <td>2</td>\n",
       "      <td>2</td>\n",
       "      <td>2</td>\n",
       "      <td>30</td>\n",
       "      <td>8</td>\n",
       "      <td>1</td>\n",
       "      <td>0</td>\n",
       "      <td>0</td>\n",
       "      <td>1</td>\n",
       "      <td>0</td>\n",
       "      <td>0</td>\n",
       "    </tr>\n",
       "    <tr>\n",
       "      <th>1</th>\n",
       "      <td>1</td>\n",
       "      <td>4</td>\n",
       "      <td>4</td>\n",
       "      <td>3</td>\n",
       "      <td>19</td>\n",
       "      <td>20</td>\n",
       "      <td>2</td>\n",
       "      <td>1</td>\n",
       "      <td>7</td>\n",
       "      <td>4</td>\n",
       "      <td>20</td>\n",
       "      <td>19</td>\n",
       "      <td>1</td>\n",
       "      <td>0</td>\n",
       "      <td>0</td>\n",
       "      <td>1</td>\n",
       "      <td>0</td>\n",
       "      <td>0</td>\n",
       "    </tr>\n",
       "    <tr>\n",
       "      <th>2</th>\n",
       "      <td>1</td>\n",
       "      <td>4</td>\n",
       "      <td>4</td>\n",
       "      <td>3</td>\n",
       "      <td>14</td>\n",
       "      <td>24</td>\n",
       "      <td>2</td>\n",
       "      <td>1</td>\n",
       "      <td>7</td>\n",
       "      <td>7</td>\n",
       "      <td>24</td>\n",
       "      <td>14</td>\n",
       "      <td>1</td>\n",
       "      <td>0</td>\n",
       "      <td>0</td>\n",
       "      <td>1</td>\n",
       "      <td>0</td>\n",
       "      <td>0</td>\n",
       "    </tr>\n",
       "  </tbody>\n",
       "</table>\n",
       "</div>"
      ],
      "text/plain": [
       "   Age  Profession  Started since  Social media usage  SMA  SE  SMA_LABEL  \\\n",
       "0    3           3              6                   2    8  30          3   \n",
       "1    1           4              4                   3   19  20          2   \n",
       "2    1           4              4                   3   14  24          2   \n",
       "\n",
       "   SE_LABEL  num_account_apps  num_frequent_apps  SEQ_sum  SMAQ_sum  \\\n",
       "0         2                 2                  2       30         8   \n",
       "1         1                 7                  4       20        19   \n",
       "2         1                 7                  7       24        14   \n",
       "\n",
       "   Gender_Male  Notification Response_Delayed  \\\n",
       "0            1                              0   \n",
       "1            1                              0   \n",
       "2            1                              0   \n",
       "\n",
       "   Notification Response_Immediate  Notification Response_Important  \\\n",
       "0                                0                                1   \n",
       "1                                0                                1   \n",
       "2                                0                                1   \n",
       "\n",
       "   Notification Response_On Demand  Notification Response_Selective  \n",
       "0                                0                                0  \n",
       "1                                0                                0  \n",
       "2                                0                                0  "
      ]
     },
     "execution_count": 24,
     "metadata": {},
     "output_type": "execute_result"
    }
   ],
   "source": [
    "df.head(3)"
   ]
  },
  {
   "cell_type": "markdown",
   "id": "ce4aa77c-f739-4271-b352-356486f76dce",
   "metadata": {},
   "source": [
    "## Let's do Feature Selection.\n",
    "\n",
    "<hr style = \"border: none; height: 2px; background-color: #59C413;\">\n",
    "\n",
    "For this task, we'll use mutual information and pick the top 10 most relevant features.\n",
    "- Someone can ask why don't  i use Random Forest for evaluating feature importance?, well, I preferred to go with a model-independent feature evaluation.\n",
    "- This will also help simplify our project since we have to fit our algorithm three times. i.e. We would have to fit our algorithm to undersampled, oversampled and SMOTE resampled dataset.\n",
    "- Therefore, we'll avoid having to do feature selection three times.\n",
    "\n",
    "<hr style = \"border: none; height: 2px; background-color: #59C413;\">\n",
    "\n",
    "- **Now, we'll split the dataset using a 70:30 ratio. 70% for the training set and 30% for the testing set.**\n",
    "\n",
    "<hr style = \"border: none; height: 2px; background-color: #59C413;\">"
   ]
  },
  {
   "cell_type": "code",
   "execution_count": 25,
   "id": "29611e85",
   "metadata": {},
   "outputs": [],
   "source": [
    "X = df.drop(columns=['SE_LABEL'])\n",
    "y = df['SE_LABEL'] "
   ]
  },
  {
   "cell_type": "code",
   "execution_count": 26,
   "id": "80820b82",
   "metadata": {},
   "outputs": [],
   "source": [
    "X_train, X_test, y_train, y_test = train_test_split(X, y, test_size=0.3,\n",
    "                                                    random_state=42)"
   ]
  },
  {
   "cell_type": "code",
   "execution_count": 27,
   "id": "515ea052",
   "metadata": {},
   "outputs": [
    {
     "data": {
      "text/plain": [
       "SE_LABEL\n",
       "1    168\n",
       "0     25\n",
       "2     17\n",
       "Name: count, dtype: int64"
      ]
     },
     "execution_count": 27,
     "metadata": {},
     "output_type": "execute_result"
    }
   ],
   "source": [
    "y.value_counts()"
   ]
  },
  {
   "cell_type": "code",
   "execution_count": 28,
   "id": "61bb4b6c",
   "metadata": {},
   "outputs": [
    {
     "data": {
      "text/plain": [
       "SE_LABEL\n",
       "1    115\n",
       "0     19\n",
       "2     13\n",
       "Name: count, dtype: int64"
      ]
     },
     "execution_count": 28,
     "metadata": {},
     "output_type": "execute_result"
    }
   ],
   "source": [
    "y_train.value_counts()"
   ]
  },
  {
   "cell_type": "code",
   "execution_count": 29,
   "id": "5333ea32-e089-4d8a-95a6-cfa55fb1eea8",
   "metadata": {},
   "outputs": [
    {
     "data": {
      "text/plain": [
       "SE_LABEL\n",
       "1    53\n",
       "0     6\n",
       "2     4\n",
       "Name: count, dtype: int64"
      ]
     },
     "execution_count": 29,
     "metadata": {},
     "output_type": "execute_result"
    }
   ],
   "source": [
    "y_test.value_counts()"
   ]
  },
  {
   "cell_type": "markdown",
   "id": "6430eb87-f9a7-4301-b0bf-d36c1328c428",
   "metadata": {},
   "source": [
    "<hr style = \"border: none; height: 2px; background-color: #59C413;\">\n",
    "\n",
    "We have the distributions of self-esteem label after we removed outliers, the distribution of the self-esteem label for the training set, the distribution of the self-esteem label for the testing set.\n",
    "\n",
    "<hr style = \"border: none; height: 2px; background-color: #59C413;\">"
   ]
  },
  {
   "cell_type": "code",
   "execution_count": 30,
   "id": "77ff73d8-7e57-43bb-96fd-702ae659a9c4",
   "metadata": {},
   "outputs": [
    {
     "data": {
      "text/html": [
       "<div>\n",
       "<style scoped>\n",
       "    .dataframe tbody tr th:only-of-type {\n",
       "        vertical-align: middle;\n",
       "    }\n",
       "\n",
       "    .dataframe tbody tr th {\n",
       "        vertical-align: top;\n",
       "    }\n",
       "\n",
       "    .dataframe thead th {\n",
       "        text-align: right;\n",
       "    }\n",
       "</style>\n",
       "<table border=\"1\" class=\"dataframe\">\n",
       "  <thead>\n",
       "    <tr style=\"text-align: right;\">\n",
       "      <th></th>\n",
       "      <th>Feature</th>\n",
       "      <th>Mutual Information</th>\n",
       "    </tr>\n",
       "  </thead>\n",
       "  <tbody>\n",
       "    <tr>\n",
       "      <th>9</th>\n",
       "      <td>SEQ_sum</td>\n",
       "      <td>0.532941</td>\n",
       "    </tr>\n",
       "    <tr>\n",
       "      <th>5</th>\n",
       "      <td>SE</td>\n",
       "      <td>0.501219</td>\n",
       "    </tr>\n",
       "    <tr>\n",
       "      <th>4</th>\n",
       "      <td>SMA</td>\n",
       "      <td>0.110401</td>\n",
       "    </tr>\n",
       "    <tr>\n",
       "      <th>10</th>\n",
       "      <td>SMAQ_sum</td>\n",
       "      <td>0.055641</td>\n",
       "    </tr>\n",
       "    <tr>\n",
       "      <th>16</th>\n",
       "      <td>Notification Response_Selective</td>\n",
       "      <td>0.018089</td>\n",
       "    </tr>\n",
       "    <tr>\n",
       "      <th>15</th>\n",
       "      <td>Notification Response_On Demand</td>\n",
       "      <td>0.010460</td>\n",
       "    </tr>\n",
       "    <tr>\n",
       "      <th>6</th>\n",
       "      <td>SMA_LABEL</td>\n",
       "      <td>0.009937</td>\n",
       "    </tr>\n",
       "    <tr>\n",
       "      <th>12</th>\n",
       "      <td>Notification Response_Delayed</td>\n",
       "      <td>0.009103</td>\n",
       "    </tr>\n",
       "    <tr>\n",
       "      <th>2</th>\n",
       "      <td>Started since</td>\n",
       "      <td>0.003926</td>\n",
       "    </tr>\n",
       "    <tr>\n",
       "      <th>11</th>\n",
       "      <td>Gender_Male</td>\n",
       "      <td>0.001316</td>\n",
       "    </tr>\n",
       "    <tr>\n",
       "      <th>1</th>\n",
       "      <td>Profession</td>\n",
       "      <td>0.001114</td>\n",
       "    </tr>\n",
       "    <tr>\n",
       "      <th>13</th>\n",
       "      <td>Notification Response_Immediate</td>\n",
       "      <td>0.000000</td>\n",
       "    </tr>\n",
       "    <tr>\n",
       "      <th>14</th>\n",
       "      <td>Notification Response_Important</td>\n",
       "      <td>0.000000</td>\n",
       "    </tr>\n",
       "    <tr>\n",
       "      <th>0</th>\n",
       "      <td>Age</td>\n",
       "      <td>0.000000</td>\n",
       "    </tr>\n",
       "    <tr>\n",
       "      <th>7</th>\n",
       "      <td>num_account_apps</td>\n",
       "      <td>0.000000</td>\n",
       "    </tr>\n",
       "    <tr>\n",
       "      <th>3</th>\n",
       "      <td>Social media usage</td>\n",
       "      <td>0.000000</td>\n",
       "    </tr>\n",
       "    <tr>\n",
       "      <th>8</th>\n",
       "      <td>num_frequent_apps</td>\n",
       "      <td>0.000000</td>\n",
       "    </tr>\n",
       "  </tbody>\n",
       "</table>\n",
       "</div>"
      ],
      "text/plain": [
       "                            Feature  Mutual Information\n",
       "9                           SEQ_sum            0.532941\n",
       "5                                SE            0.501219\n",
       "4                               SMA            0.110401\n",
       "10                         SMAQ_sum            0.055641\n",
       "16  Notification Response_Selective            0.018089\n",
       "15  Notification Response_On Demand            0.010460\n",
       "6                         SMA_LABEL            0.009937\n",
       "12    Notification Response_Delayed            0.009103\n",
       "2                     Started since            0.003926\n",
       "11                      Gender_Male            0.001316\n",
       "1                        Profession            0.001114\n",
       "13  Notification Response_Immediate            0.000000\n",
       "14  Notification Response_Important            0.000000\n",
       "0                               Age            0.000000\n",
       "7                  num_account_apps            0.000000\n",
       "3                Social media usage            0.000000\n",
       "8                 num_frequent_apps            0.000000"
      ]
     },
     "execution_count": 30,
     "metadata": {},
     "output_type": "execute_result"
    }
   ],
   "source": [
    "mi = mutual_info_classif(X_train, y_train, random_state = 42)\n",
    "feature_importance = pd.DataFrame({\n",
    "    'Feature': X_train.columns,\n",
    "    'Mutual Information': mi\n",
    "}).sort_values(by = 'Mutual Information', ascending = False)\n",
    "feature_importance"
   ]
  },
  {
   "cell_type": "markdown",
   "id": "4691f14b-689d-4b99-80ad-1290873f3714",
   "metadata": {},
   "source": [
    "<hr style = \"border: none; height: 2px; background-color: #59C413;\">\n",
    "\n",
    "- **We have our mutual information scores. Now, let's choose the ten most relevant features.**\n",
    "\n",
    "<hr style = \"border: none; height: 2px; background-color: #59C413;\">"
   ]
  },
  {
   "cell_type": "code",
   "execution_count": 31,
   "id": "53622cb6-e209-4bc0-acf1-aaecf6c78bf4",
   "metadata": {},
   "outputs": [
    {
     "data": {
      "image/png": "[encoded data removed]",
      "text/plain": [
       "<Figure size 1000x600 with 1 Axes>"
      ]
     },
     "metadata": {},
     "output_type": "display_data"
    }
   ],
   "source": [
    "top_10_features = feature_importance.head(10)\n",
    "colors = ['#59C413', '#59C413', '#59C413', '#59C413', '#59C413', '#FFFFFF',\n",
    "          '#FFFFFF', '#FFFFFF', '#FFFFFF', '#FFFFFF']\n",
    "plt.figure(figsize = (10, 6))\n",
    "bars = plt.bar(top_10_features['Feature'], top_10_features['Mutual Information'],\n",
    "               color = colors, edgecolor = '#59C413')\n",
    "plt.title('TOP 10 FEATURES BY MUTUAL INFORMATION', fontsize = 15)\n",
    "plt.xlabel('FEATURES', fontsize = 14)\n",
    "plt.ylabel('MUTUAL INFORMATION SCORE', fontsize = 14)\n",
    "plt.xticks(rotation = 45, ha = 'right')\n",
    "plt.tight_layout()\n",
    "plt.show()"
   ]
  },
  {
   "cell_type": "markdown",
   "id": "727067f6-b430-4500-b9c9-b618ed95d1d6",
   "metadata": {},
   "source": [
    "## Now, let's resample our selected features!\n",
    "\n",
    "<hr style = \"border: none; height: 2px; background-color: #59C413;\">"
   ]
  },
  {
   "cell_type": "code",
   "execution_count": 32,
   "id": "80c382a1-9cff-471a-bd42-799c44696c54",
   "metadata": {},
   "outputs": [],
   "source": [
    "X_train_top10 = X_train[top_10_features['Feature'].values]"
   ]
  },
  {
   "cell_type": "code",
   "execution_count": 33,
   "id": "0180f0f9-b0b3-4121-a335-4df758e0d2fb",
   "metadata": {},
   "outputs": [],
   "source": [
    "def plot_resampling_results(y_resampled, title, class_labels):\n",
    "    colors = {\n",
    "        0: '#FFFFFF',\n",
    "        1: '#59C413',\n",
    "        2: '#FFFFFF'\n",
    "    }\n",
    "    palette = [colors[label] for label in class_labels]\n",
    "    plt.figure(figsize=(7, 4))\n",
    "    sns.countplot(x=pd.Series(y_resampled), palette=palette, \n",
    "                  order=class_labels, edgecolor='#59C413')\n",
    "    plt.title(title)\n",
    "    plt.xlabel('Class Labels')\n",
    "    plt.ylabel('Count')\n",
    "    plt.tight_layout()\n",
    "    plt.show()"
   ]
  },
  {
   "cell_type": "markdown",
   "id": "d01081e7-c6bd-459e-9314-41d3c176b16d",
   "metadata": {},
   "source": [
    "<hr style = \"border: none; height: 2px; background-color: #59C413;\">\n",
    "\n",
    "### Let's start with Random Undersampling.\n",
    "\n",
    "<hr style = \"border: none; height: 2px; background-color: #59C413;\">"
   ]
  },
  {
   "cell_type": "code",
   "execution_count": 34,
   "id": "c58667b1-ce2f-43dd-91cd-8e4df6740fe7",
   "metadata": {},
   "outputs": [
    {
     "name": "stderr",
     "output_type": "stream",
     "text": [
      "/data/user/0/ru.iiec.pydroid3/cache/ipykernel_14673/904181770.py:9: FutureWarning: \n",
      "\n",
      "Passing `palette` without assigning `hue` is deprecated and will be removed in v0.14.0. Assign the `x` variable to `hue` and set `legend=False` for the same effect.\n",
      "\n",
      "  sns.countplot(x=pd.Series(y_resampled), palette=palette,\n"
     ]
    },
    {
     "data": {
      "image/png": "[encoded data removed]",
      "text/plain": [
       "<Figure size 700x400 with 1 Axes>"
      ]
     },
     "metadata": {},
     "output_type": "display_data"
    }
   ],
   "source": [
    "rus = RandomUnderSampler(random_state=101)\n",
    "X_rus, y_rus = rus.fit_resample(X_train_top10, y_train)\n",
    "class_labels = sorted(y_train.unique())\n",
    "plot_resampling_results(y_rus, 'Class Distribution After Undersampling',\n",
    "                        class_labels)"
   ]
  },
  {
   "cell_type": "code",
   "execution_count": 35,
   "id": "022e4241",
   "metadata": {},
   "outputs": [
    {
     "data": {
      "text/plain": [
       "SE_LABEL\n",
       "0    13\n",
       "1    13\n",
       "2    13\n",
       "Name: count, dtype: int64"
      ]
     },
     "execution_count": 35,
     "metadata": {},
     "output_type": "execute_result"
    }
   ],
   "source": [
    "y_rus.value_counts()"
   ]
  },
  {
   "cell_type": "markdown",
   "id": "b2c15bc1-a766-490f-814d-2ff8efb29108",
   "metadata": {},
   "source": [
    "<hr style = \"border: none; height: 2px; background-color: #59C413;\">\n",
    "\n",
    "#### Now, let's train and test our algorithm!\n",
    "\n",
    "<hr style = \"border: none; height: 2px; background-color: #59C413;\">"
   ]
  },
  {
   "cell_type": "code",
   "execution_count": 36,
   "id": "65fee879-def1-488a-924e-80caab8281fe",
   "metadata": {},
   "outputs": [
    {
     "data": {
      "text/html": [
       "<style>#sk-container-id-1 {color: black;}#sk-container-id-1 pre{padding: 0;}#sk-container-id-1 div.sk-toggleable {background-color: white;}#sk-container-id-1 label.sk-toggleable__label {cursor: pointer;display: block;width: 100%;margin-bottom: 0;padding: 0.3em;box-sizing: border-box;text-align: center;}#sk-container-id-1 label.sk-toggleable__label-arrow:before {content: \"▸\";float: left;margin-right: 0.25em;color: #696969;}#sk-container-id-1 label.sk-toggleable__label-arrow:hover:before {color: black;}#sk-container-id-1 div.sk-estimator:hover label.sk-toggleable__label-arrow:before {color: black;}#sk-container-id-1 div.sk-toggleable__content {max-height: 0;max-width: 0;overflow: hidden;text-align: left;background-color: #f0f8ff;}#sk-container-id-1 div.sk-toggleable__content pre {margin: 0.2em;color: black;border-radius: 0.25em;background-color: #f0f8ff;}#sk-container-id-1 input.sk-toggleable__control:checked~div.sk-toggleable__content {max-height: 200px;max-width: 100%;overflow: auto;}#sk-container-id-1 input.sk-toggleable__control:checked~label.sk-toggleable__label-arrow:before {content: \"▾\";}#sk-container-id-1 div.sk-estimator input.sk-toggleable__control:checked~label.sk-toggleable__label {background-color: #d4ebff;}#sk-container-id-1 div.sk-label input.sk-toggleable__control:checked~label.sk-toggleable__label {background-color: #d4ebff;}#sk-container-id-1 input.sk-hidden--visually {border: 0;clip: rect(1px 1px 1px 1px);clip: rect(1px, 1px, 1px, 1px);height: 1px;margin: -1px;overflow: hidden;padding: 0;position: absolute;width: 1px;}#sk-container-id-1 div.sk-estimator {font-family: monospace;background-color: #f0f8ff;border: 1px dotted black;border-radius: 0.25em;box-sizing: border-box;margin-bottom: 0.5em;}#sk-container-id-1 div.sk-estimator:hover {background-color: #d4ebff;}#sk-container-id-1 div.sk-parallel-item::after {content: \"\";width: 100%;border-bottom: 1px solid gray;flex-grow: 1;}#sk-container-id-1 div.sk-label:hover label.sk-toggleable__label {background-color: #d4ebff;}#sk-container-id-1 div.sk-serial::before {content: \"\";position: absolute;border-left: 1px solid gray;box-sizing: border-box;top: 0;bottom: 0;left: 50%;z-index: 0;}#sk-container-id-1 div.sk-serial {display: flex;flex-direction: column;align-items: center;background-color: white;padding-right: 0.2em;padding-left: 0.2em;position: relative;}#sk-container-id-1 div.sk-item {position: relative;z-index: 1;}#sk-container-id-1 div.sk-parallel {display: flex;align-items: stretch;justify-content: center;background-color: white;position: relative;}#sk-container-id-1 div.sk-item::before, #sk-container-id-1 div.sk-parallel-item::before {content: \"\";position: absolute;border-left: 1px solid gray;box-sizing: border-box;top: 0;bottom: 0;left: 50%;z-index: -1;}#sk-container-id-1 div.sk-parallel-item {display: flex;flex-direction: column;z-index: 1;position: relative;background-color: white;}#sk-container-id-1 div.sk-parallel-item:first-child::after {align-self: flex-end;width: 50%;}#sk-container-id-1 div.sk-parallel-item:last-child::after {align-self: flex-start;width: 50%;}#sk-container-id-1 div.sk-parallel-item:only-child::after {width: 0;}#sk-container-id-1 div.sk-dashed-wrapped {border: 1px dashed gray;margin: 0 0.4em 0.5em 0.4em;box-sizing: border-box;padding-bottom: 0.4em;background-color: white;}#sk-container-id-1 div.sk-label label {font-family: monospace;font-weight: bold;display: inline-block;line-height: 1.2em;}#sk-container-id-1 div.sk-label-container {text-align: center;}#sk-container-id-1 div.sk-container {/* jupyter's `normalize.less` sets `[hidden] { display: none; }` but bootstrap.min.css set `[hidden] { display: none !important; }` so we also need the `!important` here to be able to override the default hidden behavior on the sphinx rendered scikit-learn.org. See: https://github.com/scikit-learn/scikit-learn/issues/21755 */display: inline-block !important;position: relative;}#sk-container-id-1 div.sk-text-repr-fallback {display: none;}</style><div id=\"sk-container-id-1\" class=\"sk-top-container\"><div class=\"sk-text-repr-fallback\"><pre>RandomForestClassifier(n_jobs=-1, random_state=42)</pre><b>In a Jupyter environment, please rerun this cell to show the HTML representation or trust the notebook. <br />On GitHub, the HTML representation is unable to render, please try loading this page with nbviewer.org.</b></div><div class=\"sk-container\" hidden><div class=\"sk-item\"><div class=\"sk-estimator sk-toggleable\"><input class=\"sk-toggleable__control sk-hidden--visually\" id=\"sk-estimator-id-1\" type=\"checkbox\" checked><label for=\"sk-estimator-id-1\" class=\"sk-toggleable__label sk-toggleable__label-arrow\">RandomForestClassifier</label><div class=\"sk-toggleable__content\"><pre>RandomForestClassifier(n_jobs=-1, random_state=42)</pre></div></div></div></div></div>"
      ],
      "text/plain": [
       "RandomForestClassifier(n_jobs=-1, random_state=42)"
      ]
     },
     "execution_count": 36,
     "metadata": {},
     "output_type": "execute_result"
    }
   ],
   "source": [
    "model_1 = RandomForestClassifier(n_jobs=-1, random_state=42)\n",
    "model_1.fit(X_rus, y_rus)"
   ]
  },
  {
   "cell_type": "code",
   "execution_count": 37,
   "id": "72a0b68b-0d73-4ff6-a2c1-82dae5b16721",
   "metadata": {},
   "outputs": [],
   "source": [
    "X_test_top10 = X_test[top_10_features['Feature'].values]"
   ]
  },
  {
   "cell_type": "code",
   "execution_count": 38,
   "id": "fd570a64",
   "metadata": {},
   "outputs": [],
   "source": [
    "y_pred_1 = model_1.predict(X_test_top10)"
   ]
  },
  {
   "cell_type": "code",
   "execution_count": 39,
   "id": "82c15437",
   "metadata": {},
   "outputs": [
    {
     "name": "stdout",
     "output_type": "stream",
     "text": [
      "[1 0 1 1 2 1 1 0 1 1 1 1 0 2 1 1 1 0 1 1 0 1 1 1 1 2 0 1 1 2 1 1 1 2 1 1 1\n",
      " 1 1 1 0 1 1 1 1 1 1 2 1 1 1 1 1 1 0 1 2 2 1 1 1 1 1]\n"
     ]
    }
   ],
   "source": [
    "print(y_pred_1)"
   ]
  },
  {
   "cell_type": "markdown",
   "id": "7876f661-8cd5-43b5-bf76-c898bdcefaf4",
   "metadata": {},
   "source": [
    "<hr style = \"border: none; height: 2px; background-color: #59C413;\">\n",
    "\n",
    "#### Now, let's evaluate the algorithm.\n",
    "\n",
    "<hr style = \"border: none; height: 2px; background-color: #59C413;\">"
   ]
  },
  {
   "cell_type": "code",
   "execution_count": 40,
   "id": "9a3a0306",
   "metadata": {},
   "outputs": [
    {
     "name": "stdout",
     "output_type": "stream",
     "text": [
      "\n",
      "Classification Report:\n",
      "              precision    recall  f1-score   support\n",
      "\n",
      "           0       0.75      1.00      0.86         6\n",
      "           1       1.00      0.89      0.94        53\n",
      "           2       0.50      1.00      0.67         4\n",
      "\n",
      "    accuracy                           0.90        63\n",
      "   macro avg       0.75      0.96      0.82        63\n",
      "weighted avg       0.94      0.90      0.91        63\n",
      "\n"
     ]
    }
   ],
   "source": [
    "class_report = classification_report(y_test, y_pred_1)\n",
    "print(\"\\nClassification Report:\")\n",
    "print(class_report)"
   ]
  },
  {
   "cell_type": "markdown",
   "id": "62886ec5-77d0-4236-bebe-ec482c004f0c",
   "metadata": {},
   "source": [
    "<hr style = \"border: none; height: 2px; background-color: #59C413;\">\n",
    "\n",
    "When the data is undersampled:\n",
    "- The algorithm has its best performance on the moderate self-esteem class(1), indicated by an f1-score of 94%.\n",
    "- The algorithm performs very poorly on the high self-esteem class(2), indicated by its lowest f1-score of 67%.\n",
    "- Hence, the algorithm performs well on the majority class, and struggles with identifying the minority classes.\n",
    "\n",
    "<hr style = \"border: none; height: 2px; background-color: #59C413;\">"
   ]
  },
  {
   "cell_type": "code",
   "execution_count": 41,
   "id": "76bec212-d5c9-448a-8616-38a74693b558",
   "metadata": {},
   "outputs": [
    {
     "data": {
      "image/png": "[encoded data removed]",
      "text/plain": [
       "<Figure size 800x400 with 1 Axes>"
      ]
     },
     "metadata": {},
     "output_type": "display_data"
    }
   ],
   "source": [
    "conf_matrix = confusion_matrix(y_test, y_pred_1)\n",
    "def plot_confusion_matrix(conf_matrix, classes):\n",
    "    cmap = LinearSegmentedColormap.from_list(\"black_red_white\",\n",
    "                                             [\"#59C413\", \"#008000\", \"#FFFFFF\"],\n",
    "                                             N=256)\n",
    "    plt.figure(figsize=(8, 4))\n",
    "    sns.heatmap(conf_matrix, annot=True, fmt='d', cmap=cmap, cbar=False,\n",
    "                xticklabels=classes, yticklabels=classes)\n",
    "    plt.xlabel('PREDICTED LABEL')\n",
    "    plt.ylabel('TRUE LABEL')\n",
    "    plt.title('CONFUSION MATRIX')\n",
    "    plt.show()  \n",
    "plot_confusion_matrix(conf_matrix, model_1.classes_)"
   ]
  },
  {
   "cell_type": "markdown",
   "id": "f3269082-4647-4bb3-a2ca-d5e2b77d43a1",
   "metadata": {},
   "source": [
    "<hr style = \"border: none; height: 2px; background-color: #59C413;\">\n",
    "\n",
    "- Two samples of the moderate self-esteem class(1) were misclassified as low self-esteem class(0) samples.\n",
    "- Four other samples of the moderate self-esteem class were misclassified as high self-esteem class(2).\n",
    "- It's evident that the algorithm struggles to differentiate between class 0 and class 1, and also class 1 and class 2.\n",
    "\n",
    "<hr style = \"border: none; height: 2px; background-color: #59C413;\">\n",
    "\n",
    "### Now, let's do Random Oversampling.\n",
    "\n",
    "<hr style = \"border: none; height: 2px; background-color: #59C413;\">"
   ]
  },
  {
   "cell_type": "code",
   "execution_count": 42,
   "id": "ddd3175f",
   "metadata": {},
   "outputs": [
    {
     "name": "stderr",
     "output_type": "stream",
     "text": [
      "/data/user/0/ru.iiec.pydroid3/cache/ipykernel_14673/904181770.py:9: FutureWarning: \n",
      "\n",
      "Passing `palette` without assigning `hue` is deprecated and will be removed in v0.14.0. Assign the `x` variable to `hue` and set `legend=False` for the same effect.\n",
      "\n",
      "  sns.countplot(x=pd.Series(y_resampled), palette=palette,\n"
     ]
    },
    {
     "data": {
      "image/png": "[encoded data removed]",
      "text/plain": [
       "<Figure size 700x400 with 1 Axes>"
      ]
     },
     "metadata": {},
     "output_type": "display_data"
    }
   ],
   "source": [
    "ros = RandomOverSampler(random_state=111)\n",
    "X_ros, y_ros = ros.fit_resample(X_train_top10, y_train)\n",
    "class_labels = sorted(y_train.unique())\n",
    "plot_resampling_results(y_ros, 'Class Distribution After Oversampling',\n",
    "                        class_labels)"
   ]
  },
  {
   "cell_type": "code",
   "execution_count": 43,
   "id": "78680d83-cc71-41a3-806f-3c960c1dbdeb",
   "metadata": {},
   "outputs": [
    {
     "data": {
      "text/plain": [
       "SE_LABEL\n",
       "1    115\n",
       "0     19\n",
       "2     13\n",
       "Name: count, dtype: int64"
      ]
     },
     "execution_count": 43,
     "metadata": {},
     "output_type": "execute_result"
    }
   ],
   "source": [
    "y_train.value_counts()"
   ]
  },
  {
   "cell_type": "code",
   "execution_count": 44,
   "id": "f74fe1e1",
   "metadata": {},
   "outputs": [
    {
     "data": {
      "text/plain": [
       "SE_LABEL\n",
       "1    115\n",
       "2    115\n",
       "0    115\n",
       "Name: count, dtype: int64"
      ]
     },
     "execution_count": 44,
     "metadata": {},
     "output_type": "execute_result"
    }
   ],
   "source": [
    "y_ros.value_counts()"
   ]
  },
  {
   "cell_type": "markdown",
   "id": "4532f24a-7103-41e4-a94c-68c4c7cc3559",
   "metadata": {},
   "source": [
    "<hr style = \"border: none; height: 2px; background-color: #59C413;\">\n",
    "\n",
    "#### Now, let's train and test our algorithm!\n",
    "\n",
    "<hr style = \"border: none; height: 2px; background-color: #59C413;\">"
   ]
  },
  {
   "cell_type": "code",
   "execution_count": 45,
   "id": "55c589ae-0af6-441b-9ff4-2c9c1080f801",
   "metadata": {},
   "outputs": [
    {
     "data": {
      "text/html": [
       "<style>#sk-container-id-2 {color: black;}#sk-container-id-2 pre{padding: 0;}#sk-container-id-2 div.sk-toggleable {background-color: white;}#sk-container-id-2 label.sk-toggleable__label {cursor: pointer;display: block;width: 100%;margin-bottom: 0;padding: 0.3em;box-sizing: border-box;text-align: center;}#sk-container-id-2 label.sk-toggleable__label-arrow:before {content: \"▸\";float: left;margin-right: 0.25em;color: #696969;}#sk-container-id-2 label.sk-toggleable__label-arrow:hover:before {color: black;}#sk-container-id-2 div.sk-estimator:hover label.sk-toggleable__label-arrow:before {color: black;}#sk-container-id-2 div.sk-toggleable__content {max-height: 0;max-width: 0;overflow: hidden;text-align: left;background-color: #f0f8ff;}#sk-container-id-2 div.sk-toggleable__content pre {margin: 0.2em;color: black;border-radius: 0.25em;background-color: #f0f8ff;}#sk-container-id-2 input.sk-toggleable__control:checked~div.sk-toggleable__content {max-height: 200px;max-width: 100%;overflow: auto;}#sk-container-id-2 input.sk-toggleable__control:checked~label.sk-toggleable__label-arrow:before {content: \"▾\";}#sk-container-id-2 div.sk-estimator input.sk-toggleable__control:checked~label.sk-toggleable__label {background-color: #d4ebff;}#sk-container-id-2 div.sk-label input.sk-toggleable__control:checked~label.sk-toggleable__label {background-color: #d4ebff;}#sk-container-id-2 input.sk-hidden--visually {border: 0;clip: rect(1px 1px 1px 1px);clip: rect(1px, 1px, 1px, 1px);height: 1px;margin: -1px;overflow: hidden;padding: 0;position: absolute;width: 1px;}#sk-container-id-2 div.sk-estimator {font-family: monospace;background-color: #f0f8ff;border: 1px dotted black;border-radius: 0.25em;box-sizing: border-box;margin-bottom: 0.5em;}#sk-container-id-2 div.sk-estimator:hover {background-color: #d4ebff;}#sk-container-id-2 div.sk-parallel-item::after {content: \"\";width: 100%;border-bottom: 1px solid gray;flex-grow: 1;}#sk-container-id-2 div.sk-label:hover label.sk-toggleable__label {background-color: #d4ebff;}#sk-container-id-2 div.sk-serial::before {content: \"\";position: absolute;border-left: 1px solid gray;box-sizing: border-box;top: 0;bottom: 0;left: 50%;z-index: 0;}#sk-container-id-2 div.sk-serial {display: flex;flex-direction: column;align-items: center;background-color: white;padding-right: 0.2em;padding-left: 0.2em;position: relative;}#sk-container-id-2 div.sk-item {position: relative;z-index: 1;}#sk-container-id-2 div.sk-parallel {display: flex;align-items: stretch;justify-content: center;background-color: white;position: relative;}#sk-container-id-2 div.sk-item::before, #sk-container-id-2 div.sk-parallel-item::before {content: \"\";position: absolute;border-left: 1px solid gray;box-sizing: border-box;top: 0;bottom: 0;left: 50%;z-index: -1;}#sk-container-id-2 div.sk-parallel-item {display: flex;flex-direction: column;z-index: 1;position: relative;background-color: white;}#sk-container-id-2 div.sk-parallel-item:first-child::after {align-self: flex-end;width: 50%;}#sk-container-id-2 div.sk-parallel-item:last-child::after {align-self: flex-start;width: 50%;}#sk-container-id-2 div.sk-parallel-item:only-child::after {width: 0;}#sk-container-id-2 div.sk-dashed-wrapped {border: 1px dashed gray;margin: 0 0.4em 0.5em 0.4em;box-sizing: border-box;padding-bottom: 0.4em;background-color: white;}#sk-container-id-2 div.sk-label label {font-family: monospace;font-weight: bold;display: inline-block;line-height: 1.2em;}#sk-container-id-2 div.sk-label-container {text-align: center;}#sk-container-id-2 div.sk-container {/* jupyter's `normalize.less` sets `[hidden] { display: none; }` but bootstrap.min.css set `[hidden] { display: none !important; }` so we also need the `!important` here to be able to override the default hidden behavior on the sphinx rendered scikit-learn.org. See: https://github.com/scikit-learn/scikit-learn/issues/21755 */display: inline-block !important;position: relative;}#sk-container-id-2 div.sk-text-repr-fallback {display: none;}</style><div id=\"sk-container-id-2\" class=\"sk-top-container\"><div class=\"sk-text-repr-fallback\"><pre>RandomForestClassifier(n_jobs=-1, random_state=42)</pre><b>In a Jupyter environment, please rerun this cell to show the HTML representation or trust the notebook. <br />On GitHub, the HTML representation is unable to render, please try loading this page with nbviewer.org.</b></div><div class=\"sk-container\" hidden><div class=\"sk-item\"><div class=\"sk-estimator sk-toggleable\"><input class=\"sk-toggleable__control sk-hidden--visually\" id=\"sk-estimator-id-2\" type=\"checkbox\" checked><label for=\"sk-estimator-id-2\" class=\"sk-toggleable__label sk-toggleable__label-arrow\">RandomForestClassifier</label><div class=\"sk-toggleable__content\"><pre>RandomForestClassifier(n_jobs=-1, random_state=42)</pre></div></div></div></div></div>"
      ],
      "text/plain": [
       "RandomForestClassifier(n_jobs=-1, random_state=42)"
      ]
     },
     "execution_count": 45,
     "metadata": {},
     "output_type": "execute_result"
    }
   ],
   "source": [
    "model_2 = RandomForestClassifier(n_jobs=-1, random_state=42)\n",
    "model_2.fit(X_ros, y_ros)"
   ]
  },
  {
   "cell_type": "code",
   "execution_count": 46,
   "id": "63930b49-f9cd-48ee-9db5-364b0467bec4",
   "metadata": {},
   "outputs": [],
   "source": [
    "y_pred_2 = model_2.predict(X_test_top10)"
   ]
  },
  {
   "cell_type": "code",
   "execution_count": 47,
   "id": "a072828c",
   "metadata": {},
   "outputs": [
    {
     "name": "stdout",
     "output_type": "stream",
     "text": [
      "[1 0 1 1 1 1 1 1 1 1 1 1 0 2 1 1 1 0 1 1 0 1 1 1 1 1 0 1 1 1 1 1 1 2 1 1 1\n",
      " 1 1 1 0 1 1 1 1 1 1 2 1 1 1 1 1 1 1 1 1 2 1 1 1 1 1]\n"
     ]
    }
   ],
   "source": [
    "print(y_pred_2)"
   ]
  },
  {
   "cell_type": "markdown",
   "id": "50b7a4c7-5583-4235-bfea-fa97ab115c23",
   "metadata": {},
   "source": [
    "<hr style = \"border: none; height: 2px; background-color: #59C413;\">\n",
    "\n",
    "#### Now, let's evaluate the algorithm.\n",
    "\n",
    "<hr style = \"border: none; height: 2px; background-color: #59C413;\">"
   ]
  },
  {
   "cell_type": "code",
   "execution_count": 48,
   "id": "7333a677-60b3-4960-ac63-d994f8d96b86",
   "metadata": {},
   "outputs": [
    {
     "name": "stdout",
     "output_type": "stream",
     "text": [
      "\n",
      "Classification Report:\n",
      "              precision    recall  f1-score   support\n",
      "\n",
      "           0       1.00      1.00      1.00         6\n",
      "           1       1.00      1.00      1.00        53\n",
      "           2       1.00      1.00      1.00         4\n",
      "\n",
      "    accuracy                           1.00        63\n",
      "   macro avg       1.00      1.00      1.00        63\n",
      "weighted avg       1.00      1.00      1.00        63\n",
      "\n"
     ]
    }
   ],
   "source": [
    "class_report = classification_report(y_test, y_pred_2)\n",
    "print(\"\\nClassification Report:\")\n",
    "print(class_report)"
   ]
  },
  {
   "cell_type": "markdown",
   "id": "b186b847-88e0-47af-b309-3956b99dc3aa",
   "metadata": {},
   "source": [
    "<hr style = \"border: none; height: 2px; background-color: #59C413;\">\n",
    "\n",
    "When the data is oversampled:\n",
    "- The algorithm achieved an f1-score of 100% for all the classes, indicating that the algorithm has a perfect performance on the low, moderate and high self-esteem class.\n",
    "\n",
    "<hr style = \"border: none; height: 2px; background-color: #59C413;\">"
   ]
  },
  {
   "cell_type": "code",
   "execution_count": 49,
   "id": "8a655e20-0512-4c17-ab26-71f688d0f566",
   "metadata": {},
   "outputs": [
    {
     "data": {
      "image/png": "[encoded data removed]",
      "text/plain": [
       "<Figure size 800x400 with 1 Axes>"
      ]
     },
     "metadata": {},
     "output_type": "display_data"
    }
   ],
   "source": [
    "conf_matrix = confusion_matrix(y_test, y_pred_2)\n",
    "def plot_confusion_matrix(conf_matrix, classes):\n",
    "    cmap = LinearSegmentedColormap.from_list(\"black_red_white\",\n",
    "                                             [\"#59C413\", \"#008000\", \"#FFFFFF\"],\n",
    "                                             N=256)\n",
    "    plt.figure(figsize=(8, 4))\n",
    "    sns.heatmap(conf_matrix, annot=True, fmt='d', cmap=cmap, cbar=False,\n",
    "                xticklabels=classes, yticklabels=classes)\n",
    "    plt.xlabel('PREDICTED LABEL')\n",
    "    plt.ylabel('TRUE LABEL')\n",
    "    plt.title('CONFUSION MATRIX')\n",
    "    plt.show()    \n",
    "plot_confusion_matrix(conf_matrix, model_2.classes_)"
   ]
  },
  {
   "cell_type": "markdown",
   "id": "1f540cbc-e921-42f9-bff4-f5ac0bca24f6",
   "metadata": {},
   "source": [
    "<hr style = \"border: none; height: 2px; background-color: #59C413;\">\n",
    "\n",
    "- The confusion matrix shows that there is perfect classification performance across all of the three classes.\n",
    "- Hence, there are no misclassifications in any of the classes.\n",
    "\n",
    "<hr style = \"border: none; height: 2px; background-color: #59C413;\">\n",
    "\n",
    "### Now, let's do SMOTE.\n",
    "\n",
    "<hr style = \"border: none; height: 2px; background-color: #59C413;\">"
   ]
  },
  {
   "cell_type": "code",
   "execution_count": 50,
   "id": "78f9aac5",
   "metadata": {},
   "outputs": [
    {
     "name": "stderr",
     "output_type": "stream",
     "text": [
      "/data/user/0/ru.iiec.pydroid3/cache/ipykernel_14673/904181770.py:9: FutureWarning: \n",
      "\n",
      "Passing `palette` without assigning `hue` is deprecated and will be removed in v0.14.0. Assign the `x` variable to `hue` and set `legend=False` for the same effect.\n",
      "\n",
      "  sns.countplot(x=pd.Series(y_resampled), palette=palette,\n"
     ]
    },
    {
     "data": {
      "image/png": "[encoded data removed]",
      "text/plain": [
       "<Figure size 700x400 with 1 Axes>"
      ]
     },
     "metadata": {},
     "output_type": "display_data"
    }
   ],
   "source": [
    "smote = SMOTE(random_state=123)\n",
    "X_smote, y_smote = smote.fit_resample(X_train_top10, y_train)\n",
    "class_labels = sorted(y_train.unique())\n",
    "plot_resampling_results(y_smote, 'Class Distribution After SMOTE', class_labels)"
   ]
  },
  {
   "cell_type": "code",
   "execution_count": 51,
   "id": "e8e28a8b-3789-4ff8-b451-803b266a0d31",
   "metadata": {},
   "outputs": [
    {
     "data": {
      "text/plain": [
       "SE_LABEL\n",
       "1    115\n",
       "0     19\n",
       "2     13\n",
       "Name: count, dtype: int64"
      ]
     },
     "execution_count": 51,
     "metadata": {},
     "output_type": "execute_result"
    }
   ],
   "source": [
    "y_train.value_counts()"
   ]
  },
  {
   "cell_type": "code",
   "execution_count": 52,
   "id": "253a6ffa-6d5e-471b-8921-da25b75b3004",
   "metadata": {},
   "outputs": [
    {
     "data": {
      "text/plain": [
       "SE_LABEL\n",
       "1    115\n",
       "2    115\n",
       "0    115\n",
       "Name: count, dtype: int64"
      ]
     },
     "execution_count": 52,
     "metadata": {},
     "output_type": "execute_result"
    }
   ],
   "source": [
    "y_smote.value_counts()"
   ]
  },
  {
   "cell_type": "markdown",
   "id": "a28d9a35-0a0b-4363-afdf-ec39c67ddad5",
   "metadata": {},
   "source": [
    "<hr style = \"border: none; height: 2px; background-color: #59C413;\">\n",
    "\n",
    "#### Now, let's train and test our algorithm!\n",
    "\n",
    "<hr style = \"border: none; height: 2px; background-color: #59C413;\">"
   ]
  },
  {
   "cell_type": "code",
   "execution_count": 53,
   "id": "c6a1169c-9bb6-4fe5-88a6-bc2a80bd0d4d",
   "metadata": {},
   "outputs": [
    {
     "data": {
      "text/html": [
       "<style>#sk-container-id-3 {color: black;}#sk-container-id-3 pre{padding: 0;}#sk-container-id-3 div.sk-toggleable {background-color: white;}#sk-container-id-3 label.sk-toggleable__label {cursor: pointer;display: block;width: 100%;margin-bottom: 0;padding: 0.3em;box-sizing: border-box;text-align: center;}#sk-container-id-3 label.sk-toggleable__label-arrow:before {content: \"▸\";float: left;margin-right: 0.25em;color: #696969;}#sk-container-id-3 label.sk-toggleable__label-arrow:hover:before {color: black;}#sk-container-id-3 div.sk-estimator:hover label.sk-toggleable__label-arrow:before {color: black;}#sk-container-id-3 div.sk-toggleable__content {max-height: 0;max-width: 0;overflow: hidden;text-align: left;background-color: #f0f8ff;}#sk-container-id-3 div.sk-toggleable__content pre {margin: 0.2em;color: black;border-radius: 0.25em;background-color: #f0f8ff;}#sk-container-id-3 input.sk-toggleable__control:checked~div.sk-toggleable__content {max-height: 200px;max-width: 100%;overflow: auto;}#sk-container-id-3 input.sk-toggleable__control:checked~label.sk-toggleable__label-arrow:before {content: \"▾\";}#sk-container-id-3 div.sk-estimator input.sk-toggleable__control:checked~label.sk-toggleable__label {background-color: #d4ebff;}#sk-container-id-3 div.sk-label input.sk-toggleable__control:checked~label.sk-toggleable__label {background-color: #d4ebff;}#sk-container-id-3 input.sk-hidden--visually {border: 0;clip: rect(1px 1px 1px 1px);clip: rect(1px, 1px, 1px, 1px);height: 1px;margin: -1px;overflow: hidden;padding: 0;position: absolute;width: 1px;}#sk-container-id-3 div.sk-estimator {font-family: monospace;background-color: #f0f8ff;border: 1px dotted black;border-radius: 0.25em;box-sizing: border-box;margin-bottom: 0.5em;}#sk-container-id-3 div.sk-estimator:hover {background-color: #d4ebff;}#sk-container-id-3 div.sk-parallel-item::after {content: \"\";width: 100%;border-bottom: 1px solid gray;flex-grow: 1;}#sk-container-id-3 div.sk-label:hover label.sk-toggleable__label {background-color: #d4ebff;}#sk-container-id-3 div.sk-serial::before {content: \"\";position: absolute;border-left: 1px solid gray;box-sizing: border-box;top: 0;bottom: 0;left: 50%;z-index: 0;}#sk-container-id-3 div.sk-serial {display: flex;flex-direction: column;align-items: center;background-color: white;padding-right: 0.2em;padding-left: 0.2em;position: relative;}#sk-container-id-3 div.sk-item {position: relative;z-index: 1;}#sk-container-id-3 div.sk-parallel {display: flex;align-items: stretch;justify-content: center;background-color: white;position: relative;}#sk-container-id-3 div.sk-item::before, #sk-container-id-3 div.sk-parallel-item::before {content: \"\";position: absolute;border-left: 1px solid gray;box-sizing: border-box;top: 0;bottom: 0;left: 50%;z-index: -1;}#sk-container-id-3 div.sk-parallel-item {display: flex;flex-direction: column;z-index: 1;position: relative;background-color: white;}#sk-container-id-3 div.sk-parallel-item:first-child::after {align-self: flex-end;width: 50%;}#sk-container-id-3 div.sk-parallel-item:last-child::after {align-self: flex-start;width: 50%;}#sk-container-id-3 div.sk-parallel-item:only-child::after {width: 0;}#sk-container-id-3 div.sk-dashed-wrapped {border: 1px dashed gray;margin: 0 0.4em 0.5em 0.4em;box-sizing: border-box;padding-bottom: 0.4em;background-color: white;}#sk-container-id-3 div.sk-label label {font-family: monospace;font-weight: bold;display: inline-block;line-height: 1.2em;}#sk-container-id-3 div.sk-label-container {text-align: center;}#sk-container-id-3 div.sk-container {/* jupyter's `normalize.less` sets `[hidden] { display: none; }` but bootstrap.min.css set `[hidden] { display: none !important; }` so we also need the `!important` here to be able to override the default hidden behavior on the sphinx rendered scikit-learn.org. See: https://github.com/scikit-learn/scikit-learn/issues/21755 */display: inline-block !important;position: relative;}#sk-container-id-3 div.sk-text-repr-fallback {display: none;}</style><div id=\"sk-container-id-3\" class=\"sk-top-container\"><div class=\"sk-text-repr-fallback\"><pre>RandomForestClassifier(n_jobs=-1, random_state=42)</pre><b>In a Jupyter environment, please rerun this cell to show the HTML representation or trust the notebook. <br />On GitHub, the HTML representation is unable to render, please try loading this page with nbviewer.org.</b></div><div class=\"sk-container\" hidden><div class=\"sk-item\"><div class=\"sk-estimator sk-toggleable\"><input class=\"sk-toggleable__control sk-hidden--visually\" id=\"sk-estimator-id-3\" type=\"checkbox\" checked><label for=\"sk-estimator-id-3\" class=\"sk-toggleable__label sk-toggleable__label-arrow\">RandomForestClassifier</label><div class=\"sk-toggleable__content\"><pre>RandomForestClassifier(n_jobs=-1, random_state=42)</pre></div></div></div></div></div>"
      ],
      "text/plain": [
       "RandomForestClassifier(n_jobs=-1, random_state=42)"
      ]
     },
     "execution_count": 53,
     "metadata": {},
     "output_type": "execute_result"
    }
   ],
   "source": [
    "model_3 = RandomForestClassifier(n_jobs=-1, random_state=42)\n",
    "model_3.fit(X_smote, y_smote)"
   ]
  },
  {
   "cell_type": "code",
   "execution_count": 54,
   "id": "fe11e2a4-a29a-471c-9727-e400f9ddbfeb",
   "metadata": {},
   "outputs": [],
   "source": [
    "y_pred_3 = model_3.predict(X_test_top10)"
   ]
  },
  {
   "cell_type": "code",
   "execution_count": 55,
   "id": "458ebc72",
   "metadata": {},
   "outputs": [
    {
     "name": "stdout",
     "output_type": "stream",
     "text": [
      "[1 0 1 1 1 1 1 1 1 1 1 1 0 2 1 1 1 0 1 1 0 1 1 1 1 1 0 1 1 1 1 1 1 2 1 1 1\n",
      " 1 1 1 0 1 1 1 1 1 1 2 1 1 1 1 1 1 1 1 1 2 1 1 1 1 1]\n"
     ]
    }
   ],
   "source": [
    "print(y_pred_3)"
   ]
  },
  {
   "cell_type": "markdown",
   "id": "8d5e932b-6de0-417e-b43e-55af5e6c7281",
   "metadata": {},
   "source": [
    "<hr style = \"border: none; height: 2px; background-color: #59C413;\">\n",
    "\n",
    "#### Now, let's evaluate the algorithm.\n",
    "\n",
    "<hr style = \"border: none; height: 2px; background-color: #59C413;\">"
   ]
  },
  {
   "cell_type": "code",
   "execution_count": 56,
   "id": "61c79ef4-aeaf-4dbe-934c-c1cc317febfe",
   "metadata": {},
   "outputs": [
    {
     "name": "stdout",
     "output_type": "stream",
     "text": [
      "\n",
      "Classification Report:\n",
      "              precision    recall  f1-score   support\n",
      "\n",
      "           0       1.00      1.00      1.00         6\n",
      "           1       1.00      1.00      1.00        53\n",
      "           2       1.00      1.00      1.00         4\n",
      "\n",
      "    accuracy                           1.00        63\n",
      "   macro avg       1.00      1.00      1.00        63\n",
      "weighted avg       1.00      1.00      1.00        63\n",
      "\n"
     ]
    }
   ],
   "source": [
    "class_report = classification_report(y_test, y_pred_3)\n",
    "print(\"\\nClassification Report:\")\n",
    "print(class_report)"
   ]
  },
  {
   "cell_type": "markdown",
   "id": "9614ca7f-de3c-418d-897d-d042604cf5c6",
   "metadata": {},
   "source": [
    "<hr style = \"border: none; height: 2px; background-color: #59C413;\">\n",
    "\n",
    "When the data is SMOTE-resampled:\n",
    "- The achieved an f1-score of 100% for all the classes, indicating that the algorithm has a perfect performance on the low, moderate and high self-esteem class.\n",
    "\n",
    "<hr style = \"border: none; height: 2px; background-color: #59C413;\">"
   ]
  },
  {
   "cell_type": "code",
   "execution_count": 57,
   "id": "a02e8cf6-4f27-462b-a47b-0c25a82065a1",
   "metadata": {},
   "outputs": [
    {
     "data": {
      "image/png": "[encoded data removed]",
      "text/plain": [
       "<Figure size 800x400 with 1 Axes>"
      ]
     },
     "metadata": {},
     "output_type": "display_data"
    }
   ],
   "source": [
    "conf_matrix = confusion_matrix(y_test, y_pred_3)\n",
    "def plot_confusion_matrix(conf_matrix, classes):\n",
    "    cmap = LinearSegmentedColormap.from_list(\"black_red_white\", \n",
    "                                             [\"#59C413\", \"#008000\", \"#FFFFFF\"], \n",
    "                                             N=256)\n",
    "    plt.figure(figsize=(8, 4))\n",
    "    sns.heatmap(conf_matrix, annot=True, fmt='d', cmap=cmap, cbar=False,\n",
    "                xticklabels=classes, yticklabels=classes)\n",
    "    plt.xlabel('PREDICTED LABEL')\n",
    "    plt.ylabel('TRUE LABEL')\n",
    "    plt.title('CONFUSION MATRIX')\n",
    "    plt.show() \n",
    "plot_confusion_matrix(conf_matrix, model_3.classes_)"
   ]
  },
  {
   "cell_type": "markdown",
   "id": "3e381253-f0e8-4088-b655-b6590ce40550",
   "metadata": {},
   "source": [
    "<hr style = \"border: none; height: 2px; background-color: #59C413;\">\n",
    "\n",
    "- The confusion matrix shows that there is perfect classification performance across all the three classes.\n",
    "- Hence  there are no misclassifications in any of the classes.\n",
    "\n",
    "<hr style = \"border: none; height: 2px; background-color: #59C413;\">\n",
    "\n",
    "# Conclusion\n",
    "\n",
    "<hr style = \"border: none; height: 2px; background-color: #59C413;\">\n",
    "\n",
    "The algorithm excels on oversampled data (both random oversampling and SMOTE), achieving perfect scores across all metrics and classes. However, it struggles with undersampled data, with performance dropping to its lowest at a 67% F1 score\n",
    "\n",
    "<hr style = \"border: none; height: 4px; background-color: #59C413;\">"
   ]
  }
 ],
 "metadata": {
  "kernelspec": {
   "display_name": "Python 3 (ipykernel)",
   "language": "python",
   "name": "python3"
  },
  "language_info": {
   "codemirror_mode": {
    "name": "ipython",
    "version": 3
   },
   "file_extension": ".py",
   "mimetype": "text/x-python",
   "name": "python",
   "nbconvert_exporter": "python",
   "pygments_lexer": "ipython3",
   "version": "3.11.4"
  }
 },
 "nbformat": 4,
 "nbformat_minor": 5
}
